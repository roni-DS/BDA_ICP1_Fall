{
  "nbformat": 4,
  "nbformat_minor": 0,
  "metadata": {
    "colab": {
      "provenance": []
    },
    "kernelspec": {
      "name": "python3",
      "display_name": "Python 3"
    },
    "language_info": {
      "name": "python"
    }
  },
  "cells": [
    {
      "cell_type": "code",
      "execution_count": null,
      "metadata": {
        "id": "gw2t2mGBX3A_"
      },
      "outputs": [],
      "source": [
        "from pyspark import SparkContext, SparkConf\n",
        "\n"
      ]
    },
    {
      "cell_type": "code",
      "source": [
        "sc = SparkContext()"
      ],
      "metadata": {
        "id": "rNoC5SAwbDVF"
      },
      "execution_count": null,
      "outputs": []
    },
    {
      "cell_type": "code",
      "source": [
        "#Produce RDD with List of first 15 natural numbers\n",
        "rdd = sc.parallelize(list(range(1,16)))\n",
        "#show the elements in RDD\n",
        "rdd.collect()\n"
      ],
      "metadata": {
        "colab": {
          "base_uri": "https://localhost:8080/"
        },
        "id": "nMU0I0Zla2aA",
        "outputId": "e7699c09-ffc6-4180-9c46-ee63287e7640"
      },
      "execution_count": null,
      "outputs": [
        {
          "output_type": "execute_result",
          "data": {
            "text/plain": [
              "[1, 2, 3, 4, 5, 6, 7, 8, 9, 10, 11, 12, 13, 14, 15]"
            ]
          },
          "metadata": {},
          "execution_count": 54
        }
      ]
    },
    {
      "cell_type": "code",
      "source": [
        "type(rdd)"
      ],
      "metadata": {
        "colab": {
          "base_uri": "https://localhost:8080/",
          "height": 173
        },
        "id": "GURKVNTpbMMU",
        "outputId": "0ea413bd-073e-4ffc-9085-69ca3bdadbed"
      },
      "execution_count": null,
      "outputs": [
        {
          "output_type": "execute_result",
          "data": {
            "text/plain": [
              "pyspark.rdd.RDD"
            ],
            "text/html": [
              "<div style=\"max-width:800px; border: 1px solid var(--colab-border-color);\"><style>\n",
              "      pre.function-repr-contents {\n",
              "        overflow-x: auto;\n",
              "        padding: 8px 12px;\n",
              "        max-height: 500px;\n",
              "      }\n",
              "\n",
              "      pre.function-repr-contents.function-repr-contents-collapsed {\n",
              "        cursor: pointer;\n",
              "        max-height: 100px;\n",
              "      }\n",
              "    </style>\n",
              "    <pre style=\"white-space: initial; background:\n",
              "         var(--colab-secondary-surface-color); padding: 8px 12px;\n",
              "         border-bottom: 1px solid var(--colab-border-color);\"><b>pyspark.rdd.RDD</b><br/>def __init__(jrdd: &#x27;JavaObject&#x27;, ctx: &#x27;SparkContext&#x27;, jrdd_deserializer: Serializer=AutoBatchedSerializer(CPickleSerializer()))</pre><pre class=\"function-repr-contents function-repr-contents-collapsed\" style=\"\"><a class=\"filepath\" style=\"display:none\" href=\"#\">/usr/local/lib/python3.10/dist-packages/pyspark/rdd.py</a>A Resilient Distributed Dataset (RDD), the basic abstraction in Spark.\n",
              "Represents an immutable, partitioned collection of elements that can be\n",
              "operated on in parallel.</pre>\n",
              "      <script>\n",
              "      if (google.colab.kernel.accessAllowed && google.colab.files && google.colab.files.view) {\n",
              "        for (const element of document.querySelectorAll('.filepath')) {\n",
              "          element.style.display = 'block'\n",
              "          element.onclick = (event) => {\n",
              "            event.preventDefault();\n",
              "            event.stopPropagation();\n",
              "            google.colab.files.view(element.textContent, 336);\n",
              "          };\n",
              "        }\n",
              "      }\n",
              "      for (const element of document.querySelectorAll('.function-repr-contents')) {\n",
              "        element.onclick = (event) => {\n",
              "          event.preventDefault();\n",
              "          event.stopPropagation();\n",
              "          element.classList.toggle('function-repr-contents-collapsed');\n",
              "        };\n",
              "      }\n",
              "      </script>\n",
              "      </div>"
            ]
          },
          "metadata": {},
          "execution_count": 55
        }
      ]
    },
    {
      "cell_type": "code",
      "source": [
        "#show the elements and number of partitions in RDD\n",
        "print(rdd.collect())\n",
        "rdd.getNumPartitions()"
      ],
      "metadata": {
        "colab": {
          "base_uri": "https://localhost:8080/"
        },
        "id": "KKKnvDDEbgFt",
        "outputId": "5890d8b0-f1ba-44e6-9804-a373d66e57cd"
      },
      "execution_count": null,
      "outputs": [
        {
          "output_type": "stream",
          "name": "stdout",
          "text": [
            "[1, 2, 3, 4, 5, 6, 7, 8, 9, 10, 11, 12, 13, 14, 15]\n"
          ]
        },
        {
          "output_type": "execute_result",
          "data": {
            "text/plain": [
              "2"
            ]
          },
          "metadata": {},
          "execution_count": 56
        }
      ]
    },
    {
      "cell_type": "code",
      "source": [
        "#returns the first element in the RDD.\n",
        "\n",
        "rdd.first()"
      ],
      "metadata": {
        "colab": {
          "base_uri": "https://localhost:8080/"
        },
        "id": "v5o6EGF5bycG",
        "outputId": "120bfa02-e52b-4d28-bdad-9192ceb86f36"
      },
      "execution_count": null,
      "outputs": [
        {
          "output_type": "execute_result",
          "data": {
            "text/plain": [
              "1"
            ]
          },
          "metadata": {},
          "execution_count": 57
        }
      ]
    },
    {
      "cell_type": "code",
      "source": [
        "#Use filter transformation to create a new RDD by selecting elements that are even.\n",
        "\n",
        "rdd.filter(lambda x: x%2==0).collect()"
      ],
      "metadata": {
        "colab": {
          "base_uri": "https://localhost:8080/"
        },
        "id": "Bdl0MMJtb_2e",
        "outputId": "1c77de09-7918-4204-a3ad-81df7dbf30cc"
      },
      "execution_count": null,
      "outputs": [
        {
          "output_type": "execute_result",
          "data": {
            "text/plain": [
              "[2, 4, 6, 8, 10, 12, 14]"
            ]
          },
          "metadata": {},
          "execution_count": 58
        }
      ]
    },
    {
      "cell_type": "code",
      "source": [
        "#Apply map transformation to each element in the RDD and returns a new RDD with square of each element as an output.\n",
        "\n",
        "rdd.map(lambda x: x**2).collect()\n"
      ],
      "metadata": {
        "colab": {
          "base_uri": "https://localhost:8080/"
        },
        "id": "oovuSCzWcnMu",
        "outputId": "2f20f665-75a0-4ced-a074-d7a62636d8f9"
      },
      "execution_count": null,
      "outputs": [
        {
          "output_type": "execute_result",
          "data": {
            "text/plain": [
              "[1, 4, 9, 16, 25, 36, 49, 64, 81, 100, 121, 144, 169, 196, 225]"
            ]
          },
          "metadata": {},
          "execution_count": 59
        }
      ]
    },
    {
      "cell_type": "code",
      "source": [
        "#aggregates all elements in the RDD using reduce action\n",
        "\n",
        "sum = rdd.reduce(lambda x,y: x+y)\n",
        "print(sum)\n"
      ],
      "metadata": {
        "colab": {
          "base_uri": "https://localhost:8080/"
        },
        "id": "m83JFwTXc5uu",
        "outputId": "74bebae8-7842-4fd8-9329-16d8ff69104d"
      },
      "execution_count": null,
      "outputs": [
        {
          "output_type": "stream",
          "name": "stdout",
          "text": [
            "120\n"
          ]
        }
      ]
    },
    {
      "cell_type": "code",
      "source": [
        "from google.colab import drive\n",
        "drive.mount('/content/gdrive')"
      ],
      "metadata": {
        "colab": {
          "base_uri": "https://localhost:8080/"
        },
        "id": "Kv5GpceGfW6k",
        "outputId": "620c7fca-a4d2-4a3b-8eb6-dbd7ccb4c0f7"
      },
      "execution_count": null,
      "outputs": [
        {
          "output_type": "stream",
          "name": "stdout",
          "text": [
            "Mounted at /content/gdrive\n"
          ]
        }
      ]
    },
    {
      "cell_type": "code",
      "source": [
        "#saves the RDD data as a text file\n",
        "\n",
        "rdd.saveAsTextFile('/content/BDA/rdd_data1.txt')"
      ],
      "metadata": {
        "id": "51NjvhcndaCG"
      },
      "execution_count": 63,
      "outputs": []
    },
    {
      "cell_type": "code",
      "source": [
        "#take two new list RDDs and Combine them with union transformation\n",
        "\n",
        "rdd1 = sc.parallelize([1,2,3,4,5])\n",
        "rdd2 = sc.parallelize([6,7,8,9,10])\n",
        "rdd3 = rdd1.union(rdd2)\n",
        "rdd3.collect()"
      ],
      "metadata": {
        "colab": {
          "base_uri": "https://localhost:8080/"
        },
        "id": "4fw7eUkgeS95",
        "outputId": "9fdfe3b8-8767-4069-f02f-e8e2d806c9b7"
      },
      "execution_count": 64,
      "outputs": [
        {
          "output_type": "execute_result",
          "data": {
            "text/plain": [
              "[1, 2, 3, 4, 5, 6, 7, 8, 9, 10]"
            ]
          },
          "metadata": {},
          "execution_count": 64
        }
      ]
    },
    {
      "cell_type": "code",
      "source": [
        "#Use cartesian transformation on defined list RDDs that returns a new list of ordered pairs.\n",
        "\n",
        "rdd4 = rdd1.cartesian(rdd2)\n",
        "rdd4.collect()"
      ],
      "metadata": {
        "colab": {
          "base_uri": "https://localhost:8080/"
        },
        "id": "eaksFgnweiAc",
        "outputId": "f4bcf4d4-a596-41aa-e737-e9ef12732859"
      },
      "execution_count": 65,
      "outputs": [
        {
          "output_type": "execute_result",
          "data": {
            "text/plain": [
              "[(1, 6),\n",
              " (1, 7),\n",
              " (2, 6),\n",
              " (2, 7),\n",
              " (1, 8),\n",
              " (1, 9),\n",
              " (2, 8),\n",
              " (2, 9),\n",
              " (1, 10),\n",
              " (2, 10),\n",
              " (3, 6),\n",
              " (3, 7),\n",
              " (4, 6),\n",
              " (4, 7),\n",
              " (5, 6),\n",
              " (5, 7),\n",
              " (3, 8),\n",
              " (3, 9),\n",
              " (4, 8),\n",
              " (4, 9),\n",
              " (3, 10),\n",
              " (4, 10),\n",
              " (5, 8),\n",
              " (5, 9),\n",
              " (5, 10)]"
            ]
          },
          "metadata": {},
          "execution_count": 65
        }
      ]
    },
    {
      "cell_type": "code",
      "source": [
        "#Create an RDD with Dictionary\n",
        "\n",
        "rdd5 = sc.parallelize([('a',1),('b',2),('c',3),('a',1)])\n",
        "rdd5.collect()"
      ],
      "metadata": {
        "colab": {
          "base_uri": "https://localhost:8080/"
        },
        "id": "9bATD0VWe0W_",
        "outputId": "fcce9b4a-dadc-403c-ea03-d276bebce7e7"
      },
      "execution_count": null,
      "outputs": [
        {
          "output_type": "execute_result",
          "data": {
            "text/plain": [
              "[('a', 1), ('b', 2), ('c', 3), ('a', 1)]"
            ]
          },
          "metadata": {},
          "execution_count": 15
        }
      ]
    },
    {
      "cell_type": "code",
      "source": [
        "#Get unique value in the RDD as the key and its count as the value.\n",
        "\n",
        "rdd5.countByKey()"
      ],
      "metadata": {
        "colab": {
          "base_uri": "https://localhost:8080/"
        },
        "id": "xH7x4lIje5Lv",
        "outputId": "8e2692d2-8f46-4c4f-f77b-a93796137b83"
      },
      "execution_count": null,
      "outputs": [
        {
          "output_type": "execute_result",
          "data": {
            "text/plain": [
              "defaultdict(int, {'a': 2, 'b': 1, 'c': 1})"
            ]
          },
          "metadata": {},
          "execution_count": 16
        }
      ]
    },
    {
      "cell_type": "code",
      "source": [
        "#Create RDD by combining multiple .text files\n",
        "rdd4.saveAsTextFile('/content/BDA/file1.txt')\n",
        "rdd5.saveAsTextFile('/content/BDA/file2.txt')\n",
        "rdd6 = sc.textFile('/content/BDA/file1.txt').union(sc.textFile('/content/BDA/file2.txt'))\n",
        "rdd6.collect()\n",
        "\n"
      ],
      "metadata": {
        "colab": {
          "base_uri": "https://localhost:8080/"
        },
        "id": "-Q5L9nSegAZ4",
        "outputId": "85785388-460e-42fe-903f-ca5ea4d39aa5"
      },
      "execution_count": null,
      "outputs": [
        {
          "output_type": "execute_result",
          "data": {
            "text/plain": [
              "['(1, 8)',\n",
              " '(1, 9)',\n",
              " '(2, 8)',\n",
              " '(2, 9)',\n",
              " '(1, 10)',\n",
              " '(2, 10)',\n",
              " '(3, 6)',\n",
              " '(3, 7)',\n",
              " '(4, 6)',\n",
              " '(4, 7)',\n",
              " '(5, 6)',\n",
              " '(5, 7)',\n",
              " '(1, 6)',\n",
              " '(1, 7)',\n",
              " '(2, 6)',\n",
              " '(2, 7)',\n",
              " '(3, 8)',\n",
              " '(3, 9)',\n",
              " '(4, 8)',\n",
              " '(4, 9)',\n",
              " '(3, 10)',\n",
              " '(4, 10)',\n",
              " '(5, 8)',\n",
              " '(5, 9)',\n",
              " '(5, 10)',\n",
              " \"('c', 3)\",\n",
              " \"('a', 1)\",\n",
              " \"('a', 1)\",\n",
              " \"('b', 2)\"]"
            ]
          },
          "metadata": {},
          "execution_count": 20
        }
      ]
    },
    {
      "cell_type": "code",
      "source": [
        "#Inspect the First 5 Lines of an RDD\n",
        "\n",
        "rdd6.take(5)"
      ],
      "metadata": {
        "colab": {
          "base_uri": "https://localhost:8080/"
        },
        "id": "KG-wvh76gr6f",
        "outputId": "c6f2d27e-67c9-47b9-d7a8-2c7a2068b037"
      },
      "execution_count": null,
      "outputs": [
        {
          "output_type": "execute_result",
          "data": {
            "text/plain": [
              "['(1, 8)', '(1, 9)', '(2, 8)', '(2, 9)', '(1, 10)']"
            ]
          },
          "metadata": {},
          "execution_count": 21
        }
      ]
    },
    {
      "cell_type": "code",
      "source": [
        "#Create Dataframe and Dataset\n",
        "\n",
        "from pyspark.sql import SparkSession\n",
        "spark = SparkSession.builder.appName('SparkByExamples.com').getOrCreate()\n",
        "\n",
        "\n",
        "columns = [\"col1\",\"col2\"]\n",
        "data = [(\"Java\",2000),(\"Python\",10000),(\"Scala\",3000)]\n",
        "\n",
        "rdd = spark.sparkContext.parallelize(data)\n",
        "\n",
        "dfFromRDD = rdd.toDF(columns)\n",
        "dfFromRDD.printSchema()\n",
        "rdd.collect()"
      ],
      "metadata": {
        "colab": {
          "base_uri": "https://localhost:8080/"
        },
        "id": "nTXW06nOjfxO",
        "outputId": "9535575b-3376-47e6-bd8e-d7270d7abf97"
      },
      "execution_count": null,
      "outputs": [
        {
          "output_type": "stream",
          "name": "stdout",
          "text": [
            "root\n",
            " |-- col1: string (nullable = true)\n",
            " |-- col2: long (nullable = true)\n",
            "\n"
          ]
        },
        {
          "output_type": "execute_result",
          "data": {
            "text/plain": [
              "[('Java', 2000), ('Python', 10000), ('Scala', 3000)]"
            ]
          },
          "metadata": {},
          "execution_count": 27
        }
      ]
    },
    {
      "cell_type": "code",
      "source": [
        "sc.stop()"
      ],
      "metadata": {
        "id": "IqABpPbNOGqt"
      },
      "execution_count": null,
      "outputs": []
    },
    {
      "cell_type": "code",
      "source": [
        "from pyspark import SparkContext\n",
        "from pyspark.sql import SparkSession\n",
        "from pyspark.sql.types import StructType, StructField, StringType, IntegerType\n",
        "\n",
        "sc = SparkContext()\n",
        "spark = SparkSession(sc)\n",
        "\n",
        "data = [(\"Java\",2000),(\"Python\",10000),(\"Scala\",3000)]\n",
        "rdd = sc.parallelize(data)\n",
        "\n",
        "schema = StructType([\n",
        "    StructField(\"Col1\", StringType(), True),\n",
        "    StructField(\"Col2\", IntegerType(), True)\n",
        "])\n",
        "\n",
        "df = spark.createDataFrame(rdd, schema)\n",
        "df.printSchema()\n",
        "df.show()\n",
        "sc.stop()"
      ],
      "metadata": {
        "colab": {
          "base_uri": "https://localhost:8080/"
        },
        "id": "mDzwmCe6Nza2",
        "outputId": "72038956-be1b-46ef-9b57-f848cb683fcc"
      },
      "execution_count": null,
      "outputs": [
        {
          "output_type": "stream",
          "name": "stdout",
          "text": [
            "root\n",
            " |-- Col1: string (nullable = true)\n",
            " |-- Col2: integer (nullable = true)\n",
            "\n",
            "+------+-----+\n",
            "|  Col1| Col2|\n",
            "+------+-----+\n",
            "|  Java| 2000|\n",
            "|Python|10000|\n",
            "| Scala| 3000|\n",
            "+------+-----+\n",
            "\n"
          ]
        }
      ]
    },
    {
      "cell_type": "code",
      "source": [
        "#Show difference between RDD, Dataframe and Dataset using example\n",
        "\n",
        "from pyspark import SparkContext\n",
        "\n",
        "sc = SparkContext()\n",
        "\n",
        "data = [1, 2, 3, 4, 5]\n",
        "rdd = sc.parallelize(data)\n",
        "\n",
        "# Perform a transformation (map) and an action (collect)\n",
        "squared_rdd = rdd.map(lambda x: x ** 2)\n",
        "result = squared_rdd.collect()\n",
        "print(\"RDD example:\",result)\n",
        "\n",
        "sc.stop()"
      ],
      "metadata": {
        "id": "PJRwhfw5kJpT",
        "outputId": "45df1e25-7ceb-4679-d229-ded3a716159d",
        "colab": {
          "base_uri": "https://localhost:8080/"
        }
      },
      "execution_count": null,
      "outputs": [
        {
          "output_type": "stream",
          "name": "stdout",
          "text": [
            "RDD example: [1, 4, 9, 16, 25]\n"
          ]
        }
      ]
    },
    {
      "cell_type": "code",
      "source": [
        "from pyspark.sql import SparkSession\n",
        "\n",
        "spark = SparkSession.builder.appName(\"DataFrame Example\").getOrCreate()\n",
        "\n",
        "data = [(\"Alice\", 1), (\"Bob\", 2), (\"Cathy\", 3)]\n",
        "df = spark.createDataFrame(data, [\"Name\", \"Id\"])\n",
        "print(\"DataFrame example:\")\n",
        "df.show()\n",
        "\n",
        "spark.stop()"
      ],
      "metadata": {
        "colab": {
          "base_uri": "https://localhost:8080/"
        },
        "id": "Axywi7RwP-gg",
        "outputId": "5e984d8b-a279-4031-bdce-47ac5d03d921"
      },
      "execution_count": null,
      "outputs": [
        {
          "output_type": "stream",
          "name": "stdout",
          "text": [
            "DataFrame example:\n",
            "+-----+---+\n",
            "| Name| Id|\n",
            "+-----+---+\n",
            "|Alice|  1|\n",
            "|  Bob|  2|\n",
            "|Cathy|  3|\n",
            "+-----+---+\n",
            "\n"
          ]
        }
      ]
    },
    {
      "cell_type": "code",
      "source": [
        "from pyspark.sql import SparkSession\n",
        "from pyspark.sql import Row\n",
        "spark = SparkSession.builder.appName(\"Dataset Example\").getOrCreate()\n",
        "class Person:\n",
        "    def __init__(self, name, id):\n",
        "        self.name = name\n",
        "        self.id = id\n",
        "\n",
        "person_rdd = spark.sparkContext.parallelize([Person(\"Alice\", 1), Person(\"Bob\", 2), Person(\"Cathy\", 3)])\n",
        "person_df = spark.createDataFrame(person_rdd)\n",
        "print(\"DataFrame created from RDD of Person objects:\")\n",
        "person_df.show()\n",
        "spark.stop()\n"
      ],
      "metadata": {
        "colab": {
          "base_uri": "https://localhost:8080/"
        },
        "id": "y-8ycF8iQQpI",
        "outputId": "c5286a53-c13c-4b06-f2c7-170f1c0cb610"
      },
      "execution_count": null,
      "outputs": [
        {
          "output_type": "stream",
          "name": "stdout",
          "text": [
            "DataFrame created from RDD of Person objects:\n",
            "+---+-----+\n",
            "| id| name|\n",
            "+---+-----+\n",
            "|  1|Alice|\n",
            "|  2|  Bob|\n",
            "|  3|Cathy|\n",
            "+---+-----+\n",
            "\n"
          ]
        }
      ]
    }
  ]
}