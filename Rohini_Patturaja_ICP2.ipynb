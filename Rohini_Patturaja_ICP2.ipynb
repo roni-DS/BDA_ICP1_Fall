{
  "nbformat": 4,
  "nbformat_minor": 0,
  "metadata": {
    "colab": {
      "provenance": []
    },
    "kernelspec": {
      "name": "python3",
      "display_name": "Python 3"
    },
    "language_info": {
      "name": "python"
    }
  },
  "cells": [
    {
      "cell_type": "code",
      "execution_count": 49,
      "metadata": {
        "id": "rhWVvX8V8HiV",
        "colab": {
          "base_uri": "https://localhost:8080/"
        },
        "outputId": "6b12bedc-0e00-4e21-febd-969a8eb67d9f"
      },
      "outputs": [
        {
          "output_type": "stream",
          "name": "stdout",
          "text": [
            "Instance count: 2, Class count: 3\n",
            "Instance count: 1, Class count: 3\n"
          ]
        }
      ],
      "source": [
        "class Counter:\n",
        "  count=0\n",
        "  def __init__(self):\n",
        "    self._count = 0\n",
        "  def increment(self):\n",
        "    self._count += 1\n",
        "    Counter.count += 1\n",
        "  def get_counts(self):\n",
        "    return f\"Instance count: {self._count}, Class count: {Counter.count}\"\n",
        "a = Counter()\n",
        "b = Counter()\n",
        "\n",
        "a.increment()\n",
        "a.increment()\n",
        "b.increment()\n",
        "\n",
        "print(a.get_counts())\n",
        "print(b.get_counts())\n",
        "\n",
        "\n"
      ]
    },
    {
      "cell_type": "markdown",
      "source": [
        "1.Explain the difference between Counter.count and self._count?                     \n",
        " Counter.count is a class variable, which means it is shared among all instances of a class. It is initialized to 0 and incremented every time a new instance of Counter is created.\n",
        "\n",
        " self._count is an instance variable, which means it is unique to each instance of a class. It is initialized to 0 in the __init__ method and incremented by the increment method.\n",
        "\n",
        "\n",
        "2.What is the output of a.get_counts() and b.get_counts()?\n",
        "\n",
        "  Instance count: 2, Class count: 3\n",
        "  Instance count: 1, Class count: 3\n",
        "  \n",
        "3.How does the increment method affect both the class and instance variables?     \n",
        "Instance Variable (_count): Each instance (a and b) has its own _count. The _count for a increases with each call to a.increment(), while _count for b increases with each call to b.increment(). Therefore, the instance count for a is 2 and for b is 1.\n",
        "\n",
        "Class Variable (count): The class variable count is shared among all instances. It is incremented every time increment is called on any instance. Therefore, after three increments, Counter.count is 3.\n",
        "\n",
        "\n",
        "\n"
      ],
      "metadata": {
        "id": "jdf9aK3lvOvs"
      }
    },
    {
      "cell_type": "code",
      "source": [
        "def sum_all(*args):\n",
        "  return sum(args)\n",
        "print(\"Sum of 1, 2, 3 is:\", sum_all(1,2,3))\n",
        "print(\"Sum of 4, 5, 6, 7 is:\", sum_all(4,5,6,7))\n",
        "\n"
      ],
      "metadata": {
        "colab": {
          "base_uri": "https://localhost:8080/"
        },
        "id": "MBIBGH5owcIt",
        "outputId": "5eb58b6e-37fc-45d4-c7a1-e671dd0b2092"
      },
      "execution_count": null,
      "outputs": [
        {
          "output_type": "stream",
          "name": "stdout",
          "text": [
            "Sum of 1, 2, 3 is: 6\n",
            "Sum of 4, 5, 6, 7 is: 22\n"
          ]
        }
      ]
    },
    {
      "cell_type": "code",
      "source": [
        "def first_word(students):\n",
        "  sorted_students = sorted(students)\n",
        "  return sorted_students[0]\n",
        "students = ['Mary', 'Zelda', 'Jimmy', 'Jack', 'Bartholomew', 'Gertrude']\n",
        "print(first_word(students))\n"
      ],
      "metadata": {
        "colab": {
          "base_uri": "https://localhost:8080/"
        },
        "id": "QKTxO2WazzNG",
        "outputId": "67cd3806-0bf4-4038-e802-486add2355a8"
      },
      "execution_count": null,
      "outputs": [
        {
          "output_type": "stream",
          "name": "stdout",
          "text": [
            "Bartholomew\n"
          ]
        }
      ]
    },
    {
      "cell_type": "code",
      "source": [
        "class Employee:\n",
        "  count = 0\n",
        "  salaries = []\n",
        "  def __init__(self, name, family, salary, department):\n",
        "    self.name = name\n",
        "    self.family = family\n",
        "    self.salary = salary\n",
        "    self.department = department\n",
        "    Employee.count += 1\n",
        "    Employee.salaries.append(salary)\n",
        "\n",
        "  def avg_sal(self):\n",
        "    return sum(Employee.salaries)/ Employee.count\n",
        "\n",
        "\n",
        "class FulltimeEmployee(Employee):\n",
        "  def __init__(self, name, family, salary, department):\n",
        "    super().__init__(name, family, salary, department)\n",
        "\n",
        "\n",
        "emp1 = Employee(\"John\", \"Morgan\", 10000, \"IT\")\n",
        "emp2 = FulltimeEmployee(\"Jane\", \"Smith\", 60000, \"HR\")\n",
        "emp3 = FulltimeEmployee(\"Bob\", \"Johnson\", 70000, \"Finance\")\n",
        "\n",
        "print(\"Number of Employees:\", Employee.count)\n",
        "\n",
        "print(\"Employee 1:\", emp1.name, emp1.family, emp1.salary, emp1.department)\n",
        "print(\"Employee 2:\", emp2.name, emp2.family, emp2.salary, emp2.department)\n",
        "print(\"Employee 3:\", emp3.name, emp3.family, emp3.salary, emp3.department)\n",
        "\n",
        "print(\"Average salary of all employees:\", emp1.avg_sal())\n",
        "\n",
        "\n",
        "\n",
        "\n"
      ],
      "metadata": {
        "id": "nf2gAqIy3PCf",
        "colab": {
          "base_uri": "https://localhost:8080/"
        },
        "outputId": "052783d8-ed8c-4a0c-9052-f565983f0557"
      },
      "execution_count": 44,
      "outputs": [
        {
          "output_type": "stream",
          "name": "stdout",
          "text": [
            "Number of Employees: 3\n",
            "Employee 1: John Morgan 10000 IT\n",
            "Employee 2: Jane Smith 60000 HR\n",
            "Employee 3: Bob Johnson 70000 Finance\n",
            "Average salary of all employees: 46666.666666666664\n"
          ]
        }
      ]
    }
  ]
}