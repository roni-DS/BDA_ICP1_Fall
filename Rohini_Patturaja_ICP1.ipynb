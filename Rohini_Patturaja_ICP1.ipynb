{
  "cells": [
    {
      "cell_type": "code",
      "execution_count": null,
      "metadata": {
        "colab": {
          "base_uri": "https://localhost:8080/",
          "height": 304
        },
        "id": "YgjLv4PJqhTt",
        "outputId": "22ab2b9d-bab9-4a16-e67d-f00a2cf1f792"
      },
      "outputs": [
        {
          "ename": "ValueError",
          "evalue": "mount failed",
          "output_type": "error",
          "traceback": [
            "\u001b[0;31m---------------------------------------------------------------------------\u001b[0m",
            "\u001b[0;31mValueError\u001b[0m                                Traceback (most recent call last)",
            "\u001b[0;32m<ipython-input-1-d5df0069828e>\u001b[0m in \u001b[0;36m<cell line: 2>\u001b[0;34m()\u001b[0m\n\u001b[1;32m      1\u001b[0m \u001b[0;32mfrom\u001b[0m \u001b[0mgoogle\u001b[0m\u001b[0;34m.\u001b[0m\u001b[0mcolab\u001b[0m \u001b[0;32mimport\u001b[0m \u001b[0mdrive\u001b[0m\u001b[0;34m\u001b[0m\u001b[0;34m\u001b[0m\u001b[0m\n\u001b[0;32m----> 2\u001b[0;31m \u001b[0mdrive\u001b[0m\u001b[0;34m.\u001b[0m\u001b[0mmount\u001b[0m\u001b[0;34m(\u001b[0m\u001b[0;34m'/content/drive'\u001b[0m\u001b[0;34m)\u001b[0m\u001b[0;34m\u001b[0m\u001b[0;34m\u001b[0m\u001b[0m\n\u001b[0m",
            "\u001b[0;32m/usr/local/lib/python3.10/dist-packages/google/colab/drive.py\u001b[0m in \u001b[0;36mmount\u001b[0;34m(mountpoint, force_remount, timeout_ms, readonly)\u001b[0m\n\u001b[1;32m     98\u001b[0m \u001b[0;32mdef\u001b[0m \u001b[0mmount\u001b[0m\u001b[0;34m(\u001b[0m\u001b[0mmountpoint\u001b[0m\u001b[0;34m,\u001b[0m \u001b[0mforce_remount\u001b[0m\u001b[0;34m=\u001b[0m\u001b[0;32mFalse\u001b[0m\u001b[0;34m,\u001b[0m \u001b[0mtimeout_ms\u001b[0m\u001b[0;34m=\u001b[0m\u001b[0;36m120000\u001b[0m\u001b[0;34m,\u001b[0m \u001b[0mreadonly\u001b[0m\u001b[0;34m=\u001b[0m\u001b[0;32mFalse\u001b[0m\u001b[0;34m)\u001b[0m\u001b[0;34m:\u001b[0m\u001b[0;34m\u001b[0m\u001b[0;34m\u001b[0m\u001b[0m\n\u001b[1;32m     99\u001b[0m   \u001b[0;34m\"\"\"Mount your Google Drive at the specified mountpoint path.\"\"\"\u001b[0m\u001b[0;34m\u001b[0m\u001b[0;34m\u001b[0m\u001b[0m\n\u001b[0;32m--> 100\u001b[0;31m   return _mount(\n\u001b[0m\u001b[1;32m    101\u001b[0m       \u001b[0mmountpoint\u001b[0m\u001b[0;34m,\u001b[0m\u001b[0;34m\u001b[0m\u001b[0;34m\u001b[0m\u001b[0m\n\u001b[1;32m    102\u001b[0m       \u001b[0mforce_remount\u001b[0m\u001b[0;34m=\u001b[0m\u001b[0mforce_remount\u001b[0m\u001b[0;34m,\u001b[0m\u001b[0;34m\u001b[0m\u001b[0;34m\u001b[0m\u001b[0m\n",
            "\u001b[0;32m/usr/local/lib/python3.10/dist-packages/google/colab/drive.py\u001b[0m in \u001b[0;36m_mount\u001b[0;34m(mountpoint, force_remount, timeout_ms, ephemeral, readonly)\u001b[0m\n\u001b[1;32m    281\u001b[0m             \u001b[0;34m'https://research.google.com/colaboratory/faq.html#drive-timeout'\u001b[0m\u001b[0;34m\u001b[0m\u001b[0;34m\u001b[0m\u001b[0m\n\u001b[1;32m    282\u001b[0m         )\n\u001b[0;32m--> 283\u001b[0;31m       \u001b[0;32mraise\u001b[0m \u001b[0mValueError\u001b[0m\u001b[0;34m(\u001b[0m\u001b[0;34m'mount failed'\u001b[0m \u001b[0;34m+\u001b[0m \u001b[0mextra_reason\u001b[0m\u001b[0;34m)\u001b[0m\u001b[0;34m\u001b[0m\u001b[0;34m\u001b[0m\u001b[0m\n\u001b[0m\u001b[1;32m    284\u001b[0m     \u001b[0;32melif\u001b[0m \u001b[0mcase\u001b[0m \u001b[0;34m==\u001b[0m \u001b[0;36m4\u001b[0m\u001b[0;34m:\u001b[0m\u001b[0;34m\u001b[0m\u001b[0;34m\u001b[0m\u001b[0m\n\u001b[1;32m    285\u001b[0m       \u001b[0;31m# Terminate the DriveFS binary before killing bash.\u001b[0m\u001b[0;34m\u001b[0m\u001b[0;34m\u001b[0m\u001b[0m\n",
            "\u001b[0;31mValueError\u001b[0m: mount failed"
          ]
        }
      ],
      "source": [
        "from google.colab import drive\n",
        "drive.mount('/content/drive')"
      ]
    },
    {
      "cell_type": "code",
      "execution_count": null,
      "metadata": {
        "colab": {
          "base_uri": "https://localhost:8080/"
        },
        "id": "7tp2bpzFvGlm",
        "outputId": "38d3e35d-724c-4d8f-9d3a-19e74f30c691"
      },
      "outputs": [
        {
          "output_type": "stream",
          "name": "stdout",
          "text": [
            "Enter your value:python\n",
            "python\n",
            "pyth\n",
            "htyp\n"
          ]
        }
      ],
      "source": [
        "#Input the string “Python” as a list of characters from console, delete at least 2 characters, reversetheresultant string, and print it.\n",
        "val =input('Enter your value:')\n",
        "print(val)\n",
        "del_val = val[:-2]\n",
        "print(del_val)\n",
        "rev_val = del_val[::-1]\n",
        "print(rev_val)"
      ]
    },
    {
      "cell_type": "code",
      "execution_count": null,
      "metadata": {
        "colab": {
          "base_uri": "https://localhost:8080/"
        },
        "id": "tdtcMMkPLLjS",
        "outputId": "386b5a89-aacc-4909-a186-6a7a30157f97"
      },
      "outputs": [
        {
          "name": "stdout",
          "output_type": "stream",
          "text": [
            "Enter the first number:3\n",
            "Enter the second number:4\n",
            "81\n",
            "0\n",
            "0.75\n",
            "3\n"
          ]
        }
      ],
      "source": [
        "#Take two numbers from user and perform at least 4 arithmetic operations on them.\n",
        "num1 = int(input('Enter the first number:'))\n",
        "num2 = int(input('Enter the second number:'))\n",
        "print(num1 ** num2)\n",
        "print(num1 // num2)\n",
        "print(num1 / num2)\n",
        "print(num1 % num2)\n"
      ]
    },
    {
      "cell_type": "code",
      "execution_count": null,
      "metadata": {
        "colab": {
          "base_uri": "https://localhost:8080/"
        },
        "id": "T3jRqRNvP82j",
        "outputId": "f6e5b0fb-fce6-48c5-9422-9b69ce687fc5"
      },
      "outputs": [
        {
          "name": "stdout",
          "output_type": "stream",
          "text": [
            "Enter the sentence:I love playing with python\n",
            "I love playing with pythons\n"
          ]
        }
      ],
      "source": [
        "from os import replace\n",
        "#Write a program that accepts a sentence and replace each occurrence of ‘python’ with ‘pythons’.\n",
        "val = input('Enter the sentence:')\n",
        "mod_val = val.replace('python','pythons')\n",
        "print(mod_val)\n"
      ]
    },
    {
      "cell_type": "code",
      "execution_count": null,
      "metadata": {
        "colab": {
          "base_uri": "https://localhost:8080/"
        },
        "id": "fQh5zbrg9VkN",
        "outputId": "ad3b3e20-7244-4e28-b422-925e4bac4040"
      },
      "outputs": [
        {
          "name": "stdout",
          "output_type": "stream",
          "text": [
            "Enter your class score:69.9\n",
            "D\n"
          ]
        }
      ],
      "source": [
        "# Use the if statement conditions to write a program to print the letter grade based on an input class score. Use the grading scheme we are using in this class.\n",
        "score = float(input('Enter your class score:'))\n",
        "if score >= 90.0:\n",
        "  print('A')\n",
        "elif score >= 80.0:\n",
        "    print('B')\n",
        "elif score >= 70.0:\n",
        "      print('C')\n",
        "elif score >= 60.0:\n",
        "        print('D')\n",
        "else:\n",
        "          print('F')"
      ]
    },
    {
      "cell_type": "code",
      "execution_count": null,
      "metadata": {
        "colab": {
          "base_uri": "https://localhost:8080/"
        },
        "id": "7aDHNusJAU_Z",
        "outputId": "0a7bea8a-629e-4210-f7f9-4d12b1678463"
      },
      "outputs": [
        {
          "output_type": "stream",
          "name": "stdout",
          "text": [
            "[23, 'Python', 23.98]\n",
            "[<class 'int'>, <class 'str'>, <class 'float'>]\n"
          ]
        }
      ],
      "source": [
        "# Write a code that appends the type of elements from a given list.\n",
        "x = [23, 'Python', 23.98]\n",
        "types =[]\n",
        "for char in x:\n",
        "  types.append(type(char))\n",
        "print(x)\n",
        "print(types)"
      ]
    },
    {
      "cell_type": "code",
      "source": [
        "IT_companies = {'Facebook', 'Google', 'Microsoft', 'Apple', 'IBM', 'Oracle', 'Amazon'}\n",
        "A = {19, 22, 24, 20, 25, 26}\n",
        "B = {19, 22, 20, 25, 26, 24, 28, 27}\n",
        "age = [22, 19, 24, 25, 26, 24, 25, 24]\n",
        "\n",
        "#Find the length of the set IT_companies\n",
        "print(len(IT_companies))\n",
        "#Add 'Twitter' to IT_companies\n",
        "IT_companies.add('Twitter')\n",
        "print(IT_companies)\n",
        "#Insert multiple IT companies at once to the set IT_companies\n",
        "IT_companies.update(['TCS','CGI','Deloitte'])\n",
        "print(IT_companies)\n",
        "#Remove one of the companies from the set IT_companies\n",
        "IT_companies.remove('TCS')\n",
        "print(IT_companies)\n",
        "#What is the difference between remove and discard\n",
        "#remove - It removes the element from the set. If that element doesn't present in the set then it raise a Keyerror.\n",
        "#discard - It removes the element from the set. If that element doesn't present in the set, then it does nothing.\n",
        "#Join A and B\n",
        "C = A.union(B)\n",
        "print(C)\n",
        "#Find A intersection B\n",
        "print(A.intersection(B))\n",
        "# Is A subset of B\n",
        "print(A.issubset(B))\n",
        "# Are A and B disjoint sets\n",
        "print(A.isdisjoint(B))\n",
        "# Join A with B and B with A\n",
        "print(A.union(B))\n",
        "print(B.union(A))\n",
        "#What is the symmetric difference between A and B\n",
        "print(A.symmetric_difference(B))\n",
        "# Delete the sets completely\n",
        "del IT_companies\n",
        "del A\n",
        "del B\n",
        "# Convert the ages to a set and compare the length of the list and the set.\n",
        "ages_set = set(age)\n",
        "print(len(age))\n",
        "print(len(ages_set))\n",
        "\n",
        "\n",
        "\n",
        "\n"
      ],
      "metadata": {
        "colab": {
          "base_uri": "https://localhost:8080/"
        },
        "id": "cJ7Hsq9nC96y",
        "outputId": "36b61938-06d2-439a-e207-991c571307f2"
      },
      "execution_count": null,
      "outputs": [
        {
          "output_type": "stream",
          "name": "stdout",
          "text": [
            "7\n",
            "{'Apple', 'Oracle', 'Microsoft', 'Google', 'IBM', 'Twitter', 'Amazon', 'Facebook'}\n",
            "{'Deloitte', 'Twitter', 'Amazon', 'CGI', 'Apple', 'Oracle', 'TCS', 'Microsoft', 'Google', 'IBM', 'Facebook'}\n",
            "{'Deloitte', 'Twitter', 'Amazon', 'CGI', 'Apple', 'Oracle', 'Microsoft', 'Google', 'IBM', 'Facebook'}\n",
            "{19, 20, 22, 24, 25, 26, 27, 28}\n",
            "{19, 20, 22, 24, 25, 26}\n",
            "True\n",
            "False\n",
            "{19, 20, 22, 24, 25, 26, 27, 28}\n",
            "{19, 20, 22, 24, 25, 26, 27, 28}\n",
            "{27, 28}\n",
            "8\n",
            "5\n"
          ]
        }
      ]
    }
  ],
  "metadata": {
    "colab": {
      "provenance": []
    },
    "kernelspec": {
      "display_name": "Python 3",
      "name": "python3"
    },
    "language_info": {
      "name": "python"
    }
  },
  "nbformat": 4,
  "nbformat_minor": 0
}